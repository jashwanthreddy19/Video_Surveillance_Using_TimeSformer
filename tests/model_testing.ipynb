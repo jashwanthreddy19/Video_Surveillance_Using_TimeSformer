{
 "cells": [
  {
   "cell_type": "code",
   "execution_count": 1,
   "metadata": {},
   "outputs": [],
   "source": [
    "import os\n",
    "import sys\n",
    "import torch\n",
    "from tqdm import tqdm\n",
    "from torch.utils.tensorboard import SummaryWriter\n",
    "sys.path.append(r\"C:\\Users\\jashw\\Desktop\\Video Surveillance\")\n",
    "from datasets.custom_dataset import get_data_loader\n",
    "from models.TimeSformer.timesformer.models.vit import TimeSformer  # Import TimeSformer class"
   ]
  },
  {
   "cell_type": "code",
   "execution_count": 2,
   "metadata": {},
   "outputs": [],
   "source": [
    "# ----- CONFIGURATION -----\n",
    "MODEL_PATH = r\"C:\\Users\\jashw\\Desktop\\Video Surveillance\\data\\trained_models\\timesformer_finetuned.pth\"  # Path to your trained model\n",
    "VIDEO_PATH = r\"C:\\Users\\jashw\\Desktop\\Video Surveillance\\data\\val\\Explosion\\Explosion_Explosion005_x264_clip_05.avi\"  # Path to your test video\n",
    "DEVICE = \"cuda\" if torch.cuda.is_available() else \"cpu\"\n",
    "BATCH_SIZE = 1\n",
    "TRAIN_DIR = r\"C:\\Users\\jashw\\Desktop\\Video Surveillance\\data\\train\"\n",
    "VAL_DIR = r\"C:\\Users\\jashw\\Desktop\\Video Surveillance\\data\\val\""
   ]
  },
  {
   "cell_type": "code",
   "execution_count": 3,
   "metadata": {},
   "outputs": [],
   "source": [
    "train_loader = get_data_loader(TRAIN_DIR, batch_size=BATCH_SIZE, clip_len=96, shuffle=True)\n",
    "val_loader = get_data_loader(VAL_DIR, batch_size=BATCH_SIZE, clip_len=96, shuffle=False)"
   ]
  },
  {
   "cell_type": "markdown",
   "metadata": {},
   "source": []
  },
  {
   "cell_type": "code",
   "execution_count": 4,
   "metadata": {},
   "outputs": [],
   "source": [
    "def load_model(model_path,DEVICE):\n",
    "    print(f\"Loading fine-tuned model from: {model_path}\")\n",
    "\n",
    "    # Create the TimeSformer model instance without pretrained_model\n",
    "    model = TimeSformer(img_size=224, num_classes=8, num_frames=96,\n",
    "                        attention_type='divided_space_time', pretrained_model=None) #pretrained_model=None\n",
    "\n",
    "    # Load the state_dict from your fine-tuned model\n",
    "    checkpoint = torch.load(model_path, map_location=\"cpu\")\n",
    "    model.load_state_dict(checkpoint, strict=True) #strict true\n",
    "    model.to(DEVICE)\n",
    "\n",
    "    print(\"Model loaded successfully!\")\n",
    "    return model"
   ]
  },
  {
   "cell_type": "code",
   "execution_count": 5,
   "metadata": {},
   "outputs": [],
   "source": [
    "\n",
    "def validate_model(model,test_loader,device,class_names,batch_size,description):\n",
    "        # Evaluate the model\n",
    "    correct_predictions = 0\n",
    "    total_samples = 0\n",
    "    all_preds = []\n",
    "    all_labels = []\n",
    "    print(\"Validating The Model....\")\n",
    "    with torch.no_grad(): # Disable gradient calculations during testing\n",
    "        for inputs, labels in tqdm(test_loader, desc= description):\n",
    "            inputs = inputs.to(device)\n",
    "            labels = labels.to(device)\n",
    "            outputs = model(inputs)\n",
    "            _, predicted = torch.max(outputs.data, 1)\n",
    "\n",
    "            total_samples += labels.size(0)\n",
    "            correct_predictions += (predicted == labels).sum().item()\n",
    "\n",
    "            all_preds.extend(predicted.cpu().numpy())\n",
    "            all_labels.extend(labels.cpu().numpy())\n",
    "\n",
    "    accuracy = correct_predictions / total_samples\n",
    "    print(f'Test Accuracy: {accuracy:.4f}')\n",
    "\n",
    "    # You can also calculate other metrics like precision, recall, F1-score\n",
    "    from sklearn.metrics import classification_report\n",
    "    print(\"\\nClassification Report:\")\n",
    "    Classification_report = classification_report(all_labels, all_preds, target_names= class_names)\n",
    "    print(Classification_report)\n",
    "    return accuracy, Classification_report"
   ]
  },
  {
   "cell_type": "code",
   "execution_count": 6,
   "metadata": {},
   "outputs": [
    {
     "name": "stdout",
     "output_type": "stream",
     "text": [
      "['best_model_epoch10_acc89.20.pth', 'best_model_epoch11_acc90.34.pth', 'best_model_epoch1_acc74.15.pth', 'best_model_epoch2_acc78.69.pth', 'best_model_epoch3_acc80.40.pth', 'best_model_epoch4_acc83.24.pth', 'best_model_epoch5_acc86.08.pth', 'best_model_epoch6_acc87.50.pth', 'best_model_epoch8_acc88.07.pth']\n"
     ]
    }
   ],
   "source": [
    "class_names = os.listdir(VAL_DIR)\n",
    "writer = SummaryWriter('runs/my_experiment')\n",
    "\n",
    "\n",
    "models_dir = r\"C:\\Users\\jashw\\Desktop\\Video Surveillance\\models\\data\\trained_models\\checkpoints\"\n",
    "models = os.listdir(models_dir)\n",
    "print(models)\n"
   ]
  },
  {
   "cell_type": "code",
   "execution_count": 7,
   "metadata": {},
   "outputs": [
    {
     "name": "stdout",
     "output_type": "stream",
     "text": [
      "Loading fine-tuned model from: C:\\Users\\jashw\\Desktop\\Video Surveillance\\models\\data\\trained_models\\checkpoints\\best_model_epoch10_acc89.20.pth\n",
      "Model loaded successfully!\n",
      "Validating The Model....\n"
     ]
    },
    {
     "name": "stderr",
     "output_type": "stream",
     "text": [
      "Validating on Training Data for model best_model_epoch10_acc89.20.pth: 100%|██████████| 1600/1600 [58:51<00:00,  2.21s/it]\n"
     ]
    },
    {
     "name": "stdout",
     "output_type": "stream",
     "text": [
      "Test Accuracy: 0.9694\n",
      "\n",
      "Classification Report:\n",
      "                       precision    recall  f1-score   support\n",
      "\n",
      "                Abuse       0.99      0.99      0.99       200\n",
      "            Explosion       0.98      0.98      0.98       200\n",
      "             Fighting       0.98      0.94      0.96       200\n",
      "        RoadAccidents       0.95      0.97      0.96       200\n",
      "              Robbery       0.97      0.98      0.98       200\n",
      "             Shooting       0.95      0.95      0.95       200\n",
      "            Vandalism       0.97      0.94      0.95       200\n",
      "z_Normal_Videos_event       0.98      0.99      0.99       200\n",
      "\n",
      "             accuracy                           0.97      1600\n",
      "            macro avg       0.97      0.97      0.97      1600\n",
      "         weighted avg       0.97      0.97      0.97      1600\n",
      "\n",
      "Validating The Model....\n"
     ]
    },
    {
     "name": "stderr",
     "output_type": "stream",
     "text": [
      "Validating on Validation Data for model best_model_epoch10_acc89.20.pth: 100%|██████████| 352/352 [13:01<00:00,  2.22s/it]\n"
     ]
    },
    {
     "name": "stdout",
     "output_type": "stream",
     "text": [
      "Test Accuracy: 0.8920\n",
      "\n",
      "Classification Report:\n",
      "                       precision    recall  f1-score   support\n",
      "\n",
      "                Abuse       1.00      0.94      0.97        50\n",
      "            Explosion       0.92      0.96      0.94        50\n",
      "             Fighting       0.89      0.84      0.87        50\n",
      "        RoadAccidents       0.93      0.86      0.90        50\n",
      "              Robbery       0.93      0.82      0.87        50\n",
      "             Shooting       0.14      1.00      0.25         2\n",
      "            Vandalism       0.90      0.86      0.88        50\n",
      "z_Normal_Videos_event       0.89      0.96      0.92        50\n",
      "\n",
      "             accuracy                           0.89       352\n",
      "            macro avg       0.83      0.90      0.82       352\n",
      "         weighted avg       0.92      0.89      0.90       352\n",
      "\n",
      "Loading fine-tuned model from: C:\\Users\\jashw\\Desktop\\Video Surveillance\\models\\data\\trained_models\\checkpoints\\best_model_epoch11_acc90.34.pth\n",
      "Model loaded successfully!\n",
      "Validating The Model....\n"
     ]
    },
    {
     "name": "stderr",
     "output_type": "stream",
     "text": [
      "Validating on Training Data for model best_model_epoch11_acc90.34.pth: 100%|██████████| 1600/1600 [1:00:00<00:00,  2.25s/it]\n"
     ]
    },
    {
     "name": "stdout",
     "output_type": "stream",
     "text": [
      "Test Accuracy: 0.9706\n",
      "\n",
      "Classification Report:\n",
      "                       precision    recall  f1-score   support\n",
      "\n",
      "                Abuse       1.00      0.98      0.99       200\n",
      "            Explosion       0.99      0.98      0.99       200\n",
      "             Fighting       0.98      0.95      0.97       200\n",
      "        RoadAccidents       0.94      0.98      0.96       200\n",
      "              Robbery       0.95      0.99      0.97       200\n",
      "             Shooting       0.96      0.94      0.95       200\n",
      "            Vandalism       0.96      0.94      0.95       200\n",
      "z_Normal_Videos_event       0.98      0.99      0.99       200\n",
      "\n",
      "             accuracy                           0.97      1600\n",
      "            macro avg       0.97      0.97      0.97      1600\n",
      "         weighted avg       0.97      0.97      0.97      1600\n",
      "\n",
      "Validating The Model....\n"
     ]
    },
    {
     "name": "stderr",
     "output_type": "stream",
     "text": [
      "Validating on Validation Data for model best_model_epoch11_acc90.34.pth: 100%|██████████| 352/352 [13:22<00:00,  2.28s/it]\n"
     ]
    },
    {
     "name": "stdout",
     "output_type": "stream",
     "text": [
      "Test Accuracy: 0.8949\n",
      "\n",
      "Classification Report:\n",
      "                       precision    recall  f1-score   support\n",
      "\n",
      "                Abuse       0.98      0.96      0.97        50\n",
      "            Explosion       0.92      0.94      0.93        50\n",
      "             Fighting       0.88      0.86      0.87        50\n",
      "        RoadAccidents       0.93      0.82      0.87        50\n",
      "              Robbery       0.89      0.84      0.87        50\n",
      "             Shooting       0.09      0.50      0.15         2\n",
      "            Vandalism       0.92      0.90      0.91        50\n",
      "z_Normal_Videos_event       0.92      0.96      0.94        50\n",
      "\n",
      "             accuracy                           0.89       352\n",
      "            macro avg       0.82      0.85      0.81       352\n",
      "         weighted avg       0.92      0.89      0.90       352\n",
      "\n",
      "Loading fine-tuned model from: C:\\Users\\jashw\\Desktop\\Video Surveillance\\models\\data\\trained_models\\checkpoints\\best_model_epoch1_acc74.15.pth\n",
      "Model loaded successfully!\n",
      "Validating The Model....\n"
     ]
    },
    {
     "name": "stderr",
     "output_type": "stream",
     "text": [
      "Validating on Training Data for model best_model_epoch1_acc74.15.pth: 100%|██████████| 1600/1600 [1:00:42<00:00,  2.28s/it]\n"
     ]
    },
    {
     "name": "stdout",
     "output_type": "stream",
     "text": [
      "Test Accuracy: 0.7612\n",
      "\n",
      "Classification Report:\n",
      "                       precision    recall  f1-score   support\n",
      "\n",
      "                Abuse       0.85      0.81      0.83       200\n",
      "            Explosion       0.90      0.89      0.90       200\n",
      "             Fighting       0.79      0.75      0.77       200\n",
      "        RoadAccidents       0.72      0.80      0.76       200\n",
      "              Robbery       0.63      0.83      0.72       200\n",
      "             Shooting       0.64      0.48      0.55       200\n",
      "            Vandalism       0.72      0.70      0.71       200\n",
      "z_Normal_Videos_event       0.87      0.82      0.85       200\n",
      "\n",
      "             accuracy                           0.76      1600\n",
      "            macro avg       0.76      0.76      0.76      1600\n",
      "         weighted avg       0.76      0.76      0.76      1600\n",
      "\n",
      "Validating The Model....\n"
     ]
    },
    {
     "name": "stderr",
     "output_type": "stream",
     "text": [
      "Validating on Validation Data for model best_model_epoch1_acc74.15.pth: 100%|██████████| 352/352 [13:24<00:00,  2.28s/it]\n"
     ]
    },
    {
     "name": "stdout",
     "output_type": "stream",
     "text": [
      "Test Accuracy: 0.7330\n",
      "\n",
      "Classification Report:\n",
      "                       precision    recall  f1-score   support\n",
      "\n",
      "                Abuse       0.83      0.76      0.79        50\n",
      "            Explosion       0.88      0.86      0.87        50\n",
      "             Fighting       0.76      0.64      0.70        50\n",
      "        RoadAccidents       0.79      0.68      0.73        50\n",
      "              Robbery       0.67      0.86      0.75        50\n",
      "             Shooting       0.00      0.00      0.00         2\n",
      "            Vandalism       0.74      0.56      0.64        50\n",
      "z_Normal_Videos_event       0.78      0.80      0.79        50\n",
      "\n",
      "             accuracy                           0.73       352\n",
      "            macro avg       0.68      0.65      0.66       352\n",
      "         weighted avg       0.77      0.73      0.75       352\n",
      "\n",
      "Loading fine-tuned model from: C:\\Users\\jashw\\Desktop\\Video Surveillance\\models\\data\\trained_models\\checkpoints\\best_model_epoch2_acc78.69.pth\n",
      "Model loaded successfully!\n",
      "Validating The Model....\n"
     ]
    },
    {
     "name": "stderr",
     "output_type": "stream",
     "text": [
      "Validating on Training Data for model best_model_epoch2_acc78.69.pth: 100%|██████████| 1600/1600 [1:00:42<00:00,  2.28s/it]\n"
     ]
    },
    {
     "name": "stdout",
     "output_type": "stream",
     "text": [
      "Test Accuracy: 0.8256\n",
      "\n",
      "Classification Report:\n",
      "                       precision    recall  f1-score   support\n",
      "\n",
      "                Abuse       0.89      0.88      0.88       200\n",
      "            Explosion       0.88      0.94      0.91       200\n",
      "             Fighting       0.87      0.80      0.83       200\n",
      "        RoadAccidents       0.81      0.83      0.82       200\n",
      "              Robbery       0.75      0.82      0.79       200\n",
      "             Shooting       0.79      0.57      0.67       200\n",
      "            Vandalism       0.76      0.81      0.79       200\n",
      "z_Normal_Videos_event       0.85      0.94      0.90       200\n",
      "\n",
      "             accuracy                           0.83      1600\n",
      "            macro avg       0.83      0.83      0.82      1600\n",
      "         weighted avg       0.83      0.83      0.82      1600\n",
      "\n",
      "Validating The Model....\n"
     ]
    },
    {
     "name": "stderr",
     "output_type": "stream",
     "text": [
      "Validating on Validation Data for model best_model_epoch2_acc78.69.pth: 100%|██████████| 352/352 [13:22<00:00,  2.28s/it]\n"
     ]
    },
    {
     "name": "stdout",
     "output_type": "stream",
     "text": [
      "Test Accuracy: 0.7727\n",
      "\n",
      "Classification Report:\n",
      "                       precision    recall  f1-score   support\n",
      "\n",
      "                Abuse       0.87      0.82      0.85        50\n",
      "            Explosion       0.83      0.90      0.87        50\n",
      "             Fighting       0.76      0.68      0.72        50\n",
      "        RoadAccidents       0.85      0.68      0.76        50\n",
      "              Robbery       0.75      0.82      0.78        50\n",
      "             Shooting       0.00      0.00      0.00         2\n",
      "            Vandalism       0.77      0.66      0.71        50\n",
      "z_Normal_Videos_event       0.83      0.88      0.85        50\n",
      "\n",
      "             accuracy                           0.77       352\n",
      "            macro avg       0.71      0.68      0.69       352\n",
      "         weighted avg       0.80      0.77      0.79       352\n",
      "\n",
      "Loading fine-tuned model from: C:\\Users\\jashw\\Desktop\\Video Surveillance\\models\\data\\trained_models\\checkpoints\\best_model_epoch3_acc80.40.pth\n",
      "Model loaded successfully!\n",
      "Validating The Model....\n"
     ]
    },
    {
     "name": "stderr",
     "output_type": "stream",
     "text": [
      "Validating on Training Data for model best_model_epoch3_acc80.40.pth: 100%|██████████| 1600/1600 [1:00:36<00:00,  2.27s/it]\n"
     ]
    },
    {
     "name": "stdout",
     "output_type": "stream",
     "text": [
      "Test Accuracy: 0.8669\n",
      "\n",
      "Classification Report:\n",
      "                       precision    recall  f1-score   support\n",
      "\n",
      "                Abuse       0.91      0.92      0.92       200\n",
      "            Explosion       0.95      0.93      0.94       200\n",
      "             Fighting       0.90      0.86      0.88       200\n",
      "        RoadAccidents       0.87      0.87      0.87       200\n",
      "              Robbery       0.87      0.81      0.84       200\n",
      "             Shooting       0.70      0.83      0.76       200\n",
      "            Vandalism       0.86      0.78      0.82       200\n",
      "z_Normal_Videos_event       0.90      0.94      0.92       200\n",
      "\n",
      "             accuracy                           0.87      1600\n",
      "            macro avg       0.87      0.87      0.87      1600\n",
      "         weighted avg       0.87      0.87      0.87      1600\n",
      "\n",
      "Validating The Model....\n"
     ]
    },
    {
     "name": "stderr",
     "output_type": "stream",
     "text": [
      "Validating on Validation Data for model best_model_epoch3_acc80.40.pth: 100%|██████████| 352/352 [13:18<00:00,  2.27s/it]\n"
     ]
    },
    {
     "name": "stdout",
     "output_type": "stream",
     "text": [
      "Test Accuracy: 0.7955\n",
      "\n",
      "Classification Report:\n",
      "                       precision    recall  f1-score   support\n",
      "\n",
      "                Abuse       0.90      0.86      0.88        50\n",
      "            Explosion       0.92      0.90      0.91        50\n",
      "             Fighting       0.81      0.76      0.78        50\n",
      "        RoadAccidents       0.87      0.68      0.76        50\n",
      "              Robbery       0.80      0.78      0.79        50\n",
      "             Shooting       0.04      0.50      0.07         2\n",
      "            Vandalism       0.85      0.70      0.77        50\n",
      "z_Normal_Videos_event       0.88      0.90      0.89        50\n",
      "\n",
      "             accuracy                           0.80       352\n",
      "            macro avg       0.76      0.76      0.73       352\n",
      "         weighted avg       0.86      0.80      0.82       352\n",
      "\n",
      "Loading fine-tuned model from: C:\\Users\\jashw\\Desktop\\Video Surveillance\\models\\data\\trained_models\\checkpoints\\best_model_epoch4_acc83.24.pth\n",
      "Model loaded successfully!\n",
      "Validating The Model....\n"
     ]
    },
    {
     "name": "stderr",
     "output_type": "stream",
     "text": [
      "Validating on Training Data for model best_model_epoch4_acc83.24.pth: 100%|██████████| 1600/1600 [1:00:32<00:00,  2.27s/it]\n"
     ]
    },
    {
     "name": "stdout",
     "output_type": "stream",
     "text": [
      "Test Accuracy: 0.9131\n",
      "\n",
      "Classification Report:\n",
      "                       precision    recall  f1-score   support\n",
      "\n",
      "                Abuse       0.96      0.94      0.95       200\n",
      "            Explosion       0.95      0.95      0.95       200\n",
      "             Fighting       0.92      0.91      0.91       200\n",
      "        RoadAccidents       0.89      0.94      0.91       200\n",
      "              Robbery       0.87      0.92      0.89       200\n",
      "             Shooting       0.85      0.84      0.84       200\n",
      "            Vandalism       0.92      0.85      0.89       200\n",
      "z_Normal_Videos_event       0.94      0.96      0.95       200\n",
      "\n",
      "             accuracy                           0.91      1600\n",
      "            macro avg       0.91      0.91      0.91      1600\n",
      "         weighted avg       0.91      0.91      0.91      1600\n",
      "\n",
      "Validating The Model....\n"
     ]
    },
    {
     "name": "stderr",
     "output_type": "stream",
     "text": [
      "Validating on Validation Data for model best_model_epoch4_acc83.24.pth: 100%|██████████| 352/352 [13:02<00:00,  2.22s/it]\n"
     ]
    },
    {
     "name": "stdout",
     "output_type": "stream",
     "text": [
      "Test Accuracy: 0.8239\n",
      "\n",
      "Classification Report:\n",
      "                       precision    recall  f1-score   support\n",
      "\n",
      "                Abuse       0.90      0.86      0.88        50\n",
      "            Explosion       0.87      0.92      0.89        50\n",
      "             Fighting       0.79      0.82      0.80        50\n",
      "        RoadAccidents       0.86      0.72      0.78        50\n",
      "              Robbery       0.85      0.82      0.84        50\n",
      "             Shooting       0.07      0.50      0.12         2\n",
      "            Vandalism       0.84      0.74      0.79        50\n",
      "z_Normal_Videos_event       0.90      0.90      0.90        50\n",
      "\n",
      "             accuracy                           0.82       352\n",
      "            macro avg       0.76      0.79      0.75       352\n",
      "         weighted avg       0.85      0.82      0.84       352\n",
      "\n",
      "Loading fine-tuned model from: C:\\Users\\jashw\\Desktop\\Video Surveillance\\models\\data\\trained_models\\checkpoints\\best_model_epoch5_acc86.08.pth\n",
      "Model loaded successfully!\n",
      "Validating The Model....\n"
     ]
    },
    {
     "name": "stderr",
     "output_type": "stream",
     "text": [
      "Validating on Training Data for model best_model_epoch5_acc86.08.pth: 100%|██████████| 1600/1600 [1:00:18<00:00,  2.26s/it]\n"
     ]
    },
    {
     "name": "stdout",
     "output_type": "stream",
     "text": [
      "Test Accuracy: 0.9256\n",
      "\n",
      "Classification Report:\n",
      "                       precision    recall  f1-score   support\n",
      "\n",
      "                Abuse       0.98      0.97      0.97       200\n",
      "            Explosion       0.96      0.97      0.97       200\n",
      "             Fighting       0.94      0.92      0.93       200\n",
      "        RoadAccidents       0.92      0.93      0.92       200\n",
      "              Robbery       0.86      0.94      0.90       200\n",
      "             Shooting       0.93      0.81      0.86       200\n",
      "            Vandalism       0.90      0.90      0.90       200\n",
      "z_Normal_Videos_event       0.94      0.96      0.95       200\n",
      "\n",
      "             accuracy                           0.93      1600\n",
      "            macro avg       0.93      0.93      0.93      1600\n",
      "         weighted avg       0.93      0.93      0.93      1600\n",
      "\n",
      "Validating The Model....\n"
     ]
    },
    {
     "name": "stderr",
     "output_type": "stream",
     "text": [
      "Validating on Validation Data for model best_model_epoch5_acc86.08.pth: 100%|██████████| 352/352 [12:36<00:00,  2.15s/it]\n"
     ]
    },
    {
     "name": "stdout",
     "output_type": "stream",
     "text": [
      "Test Accuracy: 0.8523\n",
      "\n",
      "Classification Report:\n",
      "                       precision    recall  f1-score   support\n",
      "\n",
      "                Abuse       0.96      0.86      0.91        50\n",
      "            Explosion       0.90      0.94      0.92        50\n",
      "             Fighting       0.82      0.84      0.83        50\n",
      "        RoadAccidents       0.91      0.80      0.85        50\n",
      "              Robbery       0.82      0.80      0.81        50\n",
      "             Shooting       0.08      0.50      0.13         2\n",
      "            Vandalism       0.85      0.78      0.81        50\n",
      "z_Normal_Videos_event       0.92      0.96      0.94        50\n",
      "\n",
      "             accuracy                           0.85       352\n",
      "            macro avg       0.78      0.81      0.78       352\n",
      "         weighted avg       0.88      0.85      0.86       352\n",
      "\n",
      "Loading fine-tuned model from: C:\\Users\\jashw\\Desktop\\Video Surveillance\\models\\data\\trained_models\\checkpoints\\best_model_epoch6_acc87.50.pth\n",
      "Model loaded successfully!\n",
      "Validating The Model....\n"
     ]
    },
    {
     "name": "stderr",
     "output_type": "stream",
     "text": [
      "Validating on Training Data for model best_model_epoch6_acc87.50.pth: 100%|██████████| 1600/1600 [1:00:16<00:00,  2.26s/it]\n"
     ]
    },
    {
     "name": "stdout",
     "output_type": "stream",
     "text": [
      "Test Accuracy: 0.9419\n",
      "\n",
      "Classification Report:\n",
      "                       precision    recall  f1-score   support\n",
      "\n",
      "                Abuse       0.97      0.97      0.97       200\n",
      "            Explosion       0.98      0.96      0.97       200\n",
      "             Fighting       0.95      0.91      0.93       200\n",
      "        RoadAccidents       0.89      0.96      0.92       200\n",
      "              Robbery       0.89      0.97      0.93       200\n",
      "             Shooting       0.92      0.89      0.91       200\n",
      "            Vandalism       0.98      0.89      0.93       200\n",
      "z_Normal_Videos_event       0.98      0.98      0.98       200\n",
      "\n",
      "             accuracy                           0.94      1600\n",
      "            macro avg       0.94      0.94      0.94      1600\n",
      "         weighted avg       0.94      0.94      0.94      1600\n",
      "\n",
      "Validating The Model....\n"
     ]
    },
    {
     "name": "stderr",
     "output_type": "stream",
     "text": [
      "Validating on Validation Data for model best_model_epoch6_acc87.50.pth: 100%|██████████| 352/352 [12:42<00:00,  2.17s/it]\n"
     ]
    },
    {
     "name": "stdout",
     "output_type": "stream",
     "text": [
      "Test Accuracy: 0.8523\n",
      "\n",
      "Classification Report:\n",
      "                       precision    recall  f1-score   support\n",
      "\n",
      "                Abuse       0.94      0.90      0.92        50\n",
      "            Explosion       0.94      0.92      0.93        50\n",
      "             Fighting       0.80      0.80      0.80        50\n",
      "        RoadAccidents       0.85      0.80      0.82        50\n",
      "              Robbery       0.82      0.84      0.83        50\n",
      "             Shooting       0.08      0.50      0.13         2\n",
      "            Vandalism       0.91      0.80      0.85        50\n",
      "z_Normal_Videos_event       0.92      0.92      0.92        50\n",
      "\n",
      "             accuracy                           0.85       352\n",
      "            macro avg       0.78      0.81      0.78       352\n",
      "         weighted avg       0.88      0.85      0.86       352\n",
      "\n",
      "Loading fine-tuned model from: C:\\Users\\jashw\\Desktop\\Video Surveillance\\models\\data\\trained_models\\checkpoints\\best_model_epoch8_acc88.07.pth\n",
      "Model loaded successfully!\n",
      "Validating The Model....\n"
     ]
    },
    {
     "name": "stderr",
     "output_type": "stream",
     "text": [
      "Validating on Training Data for model best_model_epoch8_acc88.07.pth: 100%|██████████| 1600/1600 [57:48<00:00,  2.17s/it]\n"
     ]
    },
    {
     "name": "stdout",
     "output_type": "stream",
     "text": [
      "Test Accuracy: 0.9581\n",
      "\n",
      "Classification Report:\n",
      "                       precision    recall  f1-score   support\n",
      "\n",
      "                Abuse       0.98      0.97      0.98       200\n",
      "            Explosion       0.97      0.97      0.97       200\n",
      "             Fighting       0.98      0.93      0.95       200\n",
      "        RoadAccidents       0.95      0.96      0.96       200\n",
      "              Robbery       0.94      0.97      0.96       200\n",
      "             Shooting       0.91      0.94      0.93       200\n",
      "            Vandalism       0.96      0.93      0.94       200\n",
      "z_Normal_Videos_event       0.96      0.98      0.97       200\n",
      "\n",
      "             accuracy                           0.96      1600\n",
      "            macro avg       0.96      0.96      0.96      1600\n",
      "         weighted avg       0.96      0.96      0.96      1600\n",
      "\n",
      "Validating The Model....\n"
     ]
    },
    {
     "name": "stderr",
     "output_type": "stream",
     "text": [
      "Validating on Validation Data for model best_model_epoch8_acc88.07.pth: 100%|██████████| 352/352 [12:29<00:00,  2.13s/it]"
     ]
    },
    {
     "name": "stdout",
     "output_type": "stream",
     "text": [
      "Test Accuracy: 0.8693\n",
      "\n",
      "Classification Report:\n",
      "                       precision    recall  f1-score   support\n",
      "\n",
      "                Abuse       1.00      0.92      0.96        50\n",
      "            Explosion       0.91      0.96      0.93        50\n",
      "             Fighting       0.91      0.80      0.85        50\n",
      "        RoadAccidents       0.93      0.84      0.88        50\n",
      "              Robbery       0.87      0.82      0.85        50\n",
      "             Shooting       0.06      0.50      0.10         2\n",
      "            Vandalism       0.89      0.82      0.85        50\n",
      "z_Normal_Videos_event       0.89      0.94      0.91        50\n",
      "\n",
      "             accuracy                           0.87       352\n",
      "            macro avg       0.81      0.82      0.79       352\n",
      "         weighted avg       0.91      0.87      0.89       352\n",
      "\n"
     ]
    },
    {
     "name": "stderr",
     "output_type": "stream",
     "text": [
      "\n"
     ]
    }
   ],
   "source": [
    "\n",
    "for model_name in models:\n",
    "    full_model_path = os.path.join(models_dir, model_name)\n",
    "    model = load_model(full_model_path, DEVICE=\"cuda\")\n",
    "\n",
    "    # Validate on Training Data\n",
    "    train_accuracy, train_classification_report = validate_model(\n",
    "        model, train_loader, DEVICE, class_names, BATCH_SIZE,\n",
    "        description=f\"Validating on Training Data for model {model_name}\"\n",
    "    )\n",
    "\n",
    "    # Validate on Validation Data\n",
    "    val_accuracy, val_classification_report = validate_model(\n",
    "        model, val_loader, DEVICE, class_names, BATCH_SIZE,\n",
    "        description=f\"Validating on Validation Data for model {model_name}\"\n",
    "    )\n",
    "\n",
    "    # Create a single string with all the details\n",
    "    model_details = f\"\"\"\n",
    "    Model Name: {model_name}\n",
    "\n",
    "    Training Data:\n",
    "    Accuracy: {train_accuracy:.4f}\n",
    "    Classification Report:\n",
    "    {train_classification_report}\n",
    "\n",
    "    Validation Data:\n",
    "    Accuracy: {val_accuracy:.4f}\n",
    "    Classification Report:\n",
    "    {val_classification_report}\n",
    "    \"\"\"\n",
    "\n",
    "    # Log the combined details as a single text entry\n",
    "    writer.add_text(f\"Model Details: {model_name}\", text_string=model_details)\n",
    "\n",
    "writer.close()"
   ]
  },
  {
   "cell_type": "code",
   "execution_count": 2,
   "metadata": {},
   "outputs": [
    {
     "data": {
      "text/plain": [
       "['best_model_epoch10_acc89.20.pth',\n",
       " 'best_model_epoch11_acc90.34.pth',\n",
       " 'best_model_epoch1_acc74.15.pth',\n",
       " 'best_model_epoch2_acc78.69.pth',\n",
       " 'best_model_epoch3_acc80.40.pth',\n",
       " 'best_model_epoch4_acc83.24.pth',\n",
       " 'best_model_epoch5_acc86.08.pth',\n",
       " 'best_model_epoch6_acc87.50.pth',\n",
       " 'best_model_epoch8_acc88.07.pth']"
      ]
     },
     "execution_count": 2,
     "metadata": {},
     "output_type": "execute_result"
    }
   ],
   "source": [
    "import matplotlib.pyplot as plt\n",
    "import os\n",
    "\n",
    "models_dir = r\"C:\\Users\\jashw\\Desktop\\Video Surveillance\\models\\data\\trained_models\\checkpoints\"\n",
    "sorted(os.listdir(models_dir))"
   ]
  },
  {
   "cell_type": "code",
   "execution_count": null,
   "metadata": {},
   "outputs": [],
   "source": [
    "acc_dict = {\n",
    "    \"best_model_epoch1_acc74.15.pth\" :\n",
    "        {\n",
    "            \"Training Data\" : 0.7612,\n",
    "            \"Validation Data\" : 0.7330\n",
    "        },\n",
    "    \"best_model_epoch2_acc78.69.pth\" :\n",
    "        {\n",
    "            \"Training Data\" : 0.8256,\n",
    "            \"Validation Data\" : 0.7727\n",
    "        },\n",
    "    \"best_model_epoch3_acc80.40.pth\" :\n",
    "        {\n",
    "            \"Training Data\" : 0.8669,\n",
    "            \"Validation Data\" : 0.7955\n",
    "        },\n",
    "    \"best_model_epoch4_acc83.24.pth\" :\n",
    "        {\n",
    "            \"Training Data\" : 0.9131,\n",
    "            \"Validation Data\" : 0.8239\n",
    "        },\n",
    "    \"best_model_epoch5_acc86.08.pth\" :\n",
    "        {\n",
    "            \"Training Data\" : 0.9256,\n",
    "            \"Validation Data\" : 0.8523\n",
    "        },\n",
    "    \"best_model_epoch6_acc87.50.pth\" :\n",
    "        {\n",
    "            \"Training Data\" : 0.9419,\n",
    "            \"Validation Data\" : 0.8523\n",
    "        },\n",
    "    \"best_model_epoch8_acc88.07.pth\" :\n",
    "        {\n",
    "            \"Training Data\" : 0.9581,\n",
    "            \"Validation Data\" : 0.8693\n",
    "        },\n",
    "    \"best_model_epoch10_acc89.20.pth\" :\n",
    "        {\n",
    "            \"Training Data\" : 0.9694,\n",
    "            \"Validation Data\" : 0.8920\n",
    "        },\n",
    "    \"best_model_epoch11_acc90.34.pth\" :\n",
    "        {\n",
    "            \"Training Data\" : 0.9706,\n",
    "            \"Validation Data\" : 0.8949\n",
    "        }\n",
    "}"
   ]
  },
  {
   "cell_type": "code",
   "execution_count": 54,
   "metadata": {},
   "outputs": [
    {
     "data": {
      "image/png": "[encoded data removed]",
      "text/plain": [
       "<Figure size 640x480 with 1 Axes>"
      ]
     },
     "metadata": {},
     "output_type": "display_data"
    }
   ],
   "source": [
    "import re\n",
    "\n",
    "model_names = [key for key, value in acc_dict.items()]\n",
    "temp = []\n",
    "for model_name in model_names:\n",
    "    match = re.search(r\"epoch\\d+\",model_name)\n",
    "    temp.append(match.group(0))\n",
    "\n",
    "model_names = temp.copy()\n",
    "\n",
    "Train_accuracy = [value[\"Training Data\"] for _ , value in acc_dict.items()]\n",
    "# print(Train_accuracy)\n",
    "Test_accuracy = [value[\"Validation Data\"] for _ , value in acc_dict.items()]\n",
    "# print(Test_accuracy)\n",
    "\n",
    "# plt.figure(figsize=(8,8))\n",
    "plt.scatter(model_names , Train_accuracy ,c='r',label= \"Train_accuracy\")\n",
    "plt.scatter(model_names , Test_accuracy ,c='b',label =  \"Test_accuracy\")\n",
    "plt.legend()\n",
    "plt.grid(True)\n",
    "plt.xticks(rotation = 90)\n",
    "plt.xlabel(\"model_names\")\n",
    "plt.ylabel(\"Train & Test Accuracy\")\n",
    "plt.tight_layout()\n",
    "plt.savefig(r\"C:\\Users\\jashw\\Desktop\\Video Surveillance\\scripts\\plots\\Train & Val Accuracy plot.png\",dpi = 600)\n",
    "plt.show()"
   ]
  },
  {
   "cell_type": "code",
   "execution_count": 3,
   "metadata": {},
   "outputs": [
    {
     "data": {
      "text/plain": [
       "'New classic'"
      ]
     },
     "execution_count": 3,
     "metadata": {},
     "output_type": "execute_result"
    }
   ],
   "source": [
    "import random\n",
    "\n",
    "lst = [\"NH7\", \"New classic\"]\n",
    "random.choice(lst)"
   ]
  },
  {
   "cell_type": "code",
   "execution_count": null,
   "metadata": {},
   "outputs": [],
   "source": []
  }
 ],
 "metadata": {
  "kernelspec": {
   "display_name": "venv",
   "language": "python",
   "name": "python3"
  },
  "language_info": {
   "codemirror_mode": {
    "name": "ipython",
    "version": 3
   },
   "file_extension": ".py",
   "mimetype": "text/x-python",
   "name": "python",
   "nbconvert_exporter": "python",
   "pygments_lexer": "ipython3",
   "version": "3.11.3"
  }
 },
 "nbformat": 4,
 "nbformat_minor": 2
}
